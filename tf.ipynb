{
 "cells": [
  {
   "cell_type": "code",
   "execution_count": 8,
   "metadata": {},
   "outputs": [
    {
     "name": "stdout",
     "output_type": "stream",
     "text": [
      "tf_c:  2\n",
      "tf_x:  7\n",
      "eval of tf_x:  7\n",
      "area:  15\n"
     ]
    }
   ],
   "source": [
    "# build computing graph of tensorflow\n",
    "\n",
    "import tensorflow as tf\n",
    "\n",
    "tf_c = tf.constant(2, name='const')\n",
    "tf_x = tf.Variable(tf_c+5, name='tf_x')\n",
    "\n",
    "width = tf.placeholder('int32')\n",
    "height = tf.placeholder('int32')\n",
    "area = tf.multiply(width, height)\n",
    "\n",
    "# executing\n",
    "with tf.Session() as sess:\n",
    "    init = tf.global_variables_initializer()\n",
    "    sess.run(init)\n",
    "    print('tf_c: ', sess.run(tf_c))\n",
    "    print('tf_x: ',sess.run(tf_x))\n",
    "    print('eval of tf_x: ', tf_x.eval(session=sess))\n",
    "    \n",
    "    print('area: ', sess.run(area, feed_dict={width: 5, height: 3}))\n"
   ]
  },
  {
   "cell_type": "code",
   "execution_count": 9,
   "metadata": {},
   "outputs": [],
   "source": [
    "# output the file for TensorBoard\n",
    "tf.summary.merge_all()\n",
    "train_writer = tf.summary.FileWriter('log/area', sess.graph)"
   ]
  },
  {
   "cell_type": "code",
   "execution_count": 19,
   "metadata": {},
   "outputs": [
    {
     "name": "stdout",
     "output_type": "stream",
     "text": [
      "[0.4 0.2 0.4]\n",
      "shape:  (3,)\n",
      "mat a:  [[1 2 3]]\n",
      "shape:  (1, 3)\n",
      "mat b:  [[ 1  3  5]\n",
      " [ 2  4  6]\n",
      " [ 9 10 11]]\n",
      "shape:  (3, 3)\n",
      "mat_mul:  [[32 41 50]]\n"
     ]
    }
   ],
   "source": [
    "# building the vector\n",
    "tf_vec = tf.Variable([0.4, 0.2, 0.4])\n",
    "tf_mat_a = tf.Variable([[1, 2, 3]])\n",
    "tf_mat_b = tf.Variable([[1, 3, 5],\n",
    "                  [2, 4, 6],\n",
    "                  [9, 10, 11]])\n",
    "\n",
    "with tf.Session() as sess:\n",
    "    init = tf.global_variables_initializer()\n",
    "    sess.run(init)\n",
    "    vec = sess.run(tf_vec)\n",
    "    print(vec)\n",
    "    print('shape: ', vec.shape)\n",
    "    \n",
    "    mat_a = sess.run(tf_mat_a)\n",
    "    mat_b = sess.run(tf_mat_b)\n",
    "    print('mat a: ', mat_a)\n",
    "    print('shape: ', mat_a.shape)\n",
    "    print('mat b: ', mat_b)\n",
    "    print('shape: ', mat_b.shape)\n",
    "    \n",
    "    tf_mat_mul = tf.matmul(mat_a, mat_b)\n",
    "    mat_mul = tf_mat_mul.eval(session=sess)\n",
    "    print('mat_mul: ', mat_mul)"
   ]
  },
  {
   "cell_type": "code",
   "execution_count": 2,
   "metadata": {},
   "outputs": [
    {
     "name": "stdout",
     "output_type": "stream",
     "text": [
      "b:  [[ 0.63045037 -0.12718733]]\n",
      "w:  [[ 0.6219065 -0.8460073]\n",
      " [-1.5097703  1.9109548]\n",
      " [ 1.3266736  0.0446865]]\n",
      "y:  [[1.1079284 0.       ]]\n"
     ]
    }
   ],
   "source": [
    "# build simple neuron cell\n",
    "import tensorflow as tf\n",
    "\n",
    "W = tf.Variable(tf.random_normal([3, 2]))\n",
    "b = tf.Variable(tf.random_normal([1, 2]))\n",
    "X = tf.Variable([[0.4, 0.2, 0.4]])\n",
    "y = tf.nn.relu(tf.matmul(X, W) + b)\n",
    "with tf.Session() as sess:\n",
    "    init = tf.global_variables_initializer()\n",
    "    sess.run(init)\n",
    "    \n",
    "    print(\"b: \", sess.run(b))\n",
    "    print(\"w: \", sess.run(W))\n",
    "    print(\"y: \", sess.run(y))\n",
    "    \n",
    "    \n",
    "# output the file for TensorBoard\n",
    "tf.summary.merge_all()\n",
    "train_writer = tf.summary.FileWriter('log/simple_neuron', sess.graph)\n",
    "                "
   ]
  },
  {
   "cell_type": "code",
   "execution_count": 4,
   "metadata": {},
   "outputs": [
    {
     "data": {
      "image/png": "[encoded data removed]",
      "text/plain": [
       "<Figure size 432x288 with 1 Axes>"
      ]
     },
     "metadata": {},
     "output_type": "display_data"
    }
   ],
   "source": [
    "import matplotlib.pyplot as plt\n",
    "\n",
    "tf_norm = tf.random_normal([1000])\n",
    "with tf.Session() as sess:\n",
    "    norm_data = tf_norm.eval()\n",
    "    \n",
    "plt.hist(norm_data)\n",
    "plt.show()"
   ]
  },
  {
   "cell_type": "code",
   "execution_count": 9,
   "metadata": {},
   "outputs": [
    {
     "name": "stdout",
     "output_type": "stream",
     "text": [
      "X:  [[-1.0300138  -1.6009283  -0.5528115 ]\n",
      " [-1.3795671  -0.38763696 -0.7093909 ]\n",
      " [ 0.50435466 -1.0269407   0.8337711 ]\n",
      " [ 0.58627695  0.36531457  0.30582187]\n",
      " [ 0.04544379  0.64467025 -2.4804387 ]]\n",
      "b:  [[0.33408353 0.6193562 ]]\n",
      "w:  [[ 0.6450785   0.61123765]\n",
      " [ 0.26036376 -2.075644  ]\n",
      " [-2.0446055   1.0814551 ]]\n",
      "y:  [[0.38310155 2.7148895 ]\n",
      " [0.7936523  0.        ]\n",
      " [0.         3.960886  ]\n",
      " [0.18210775 0.5501804 ]\n",
      " [5.6027656  0.        ]]\n"
     ]
    }
   ],
   "source": [
    "# simple neron cell with X as placeholder\n",
    "\n",
    "import tensorflow as tf\n",
    "import numpy as np\n",
    "\n",
    "W = tf.Variable(tf.random_normal([3, 2]), name='W')\n",
    "b = tf.Variable(tf.random_normal([1, 2]), name='b')\n",
    "X = tf.placeholder('float', [None, 3], name='X')\n",
    "y = tf.nn.relu(tf.matmul(X, W) + b)\n",
    "with tf.Session() as sess:\n",
    "    init = tf.global_variables_initializer()\n",
    "    sess.run(init)\n",
    "    X_array =  tf.random_normal([5, 3]).eval()\n",
    "    (data_W, data_b, data_y) = sess.run((W, b, y), feed_dict={X: X_array})\n",
    "    print('X: ', X_array)\n",
    "    print(\"b: \", data_b)\n",
    "    print(\"w: \", data_W)\n",
    "    print(\"y: \", data_y)\n",
    "    \n",
    "    \n",
    "# output the file for TensorBoard\n",
    "tf.summary.merge_all()\n",
    "train_writer = tf.summary.FileWriter('log/simple_neuron_placeholder', sess.graph)"
   ]
  },
  {
   "cell_type": "code",
   "execution_count": 10,
   "metadata": {},
   "outputs": [],
   "source": [
    "# layer builder\n",
    "import tensorflow as tf\n",
    "import numpy as np\n",
    "\n",
    "def layer(output_dim, input_dim, inputs, activation=None):\n",
    "    W = tf.Variable(tf.random_normal([input_dim, output_dim]))\n",
    "    b = tf.Variable(tf.random_normal([1, output_dim]))\n",
    "    XWb = tf.matmul(inputs, W) + b\n",
    "    if activation is None:\n",
    "        outputs = XWb\n",
    "    else:\n",
    "        outputs = activation(XWb)\n",
    "        \n",
    "    return outputs, W, b"
   ]
  },
  {
   "cell_type": "code",
   "execution_count": 16,
   "metadata": {},
   "outputs": [
    {
     "name": "stdout",
     "output_type": "stream",
     "text": [
      "layer_x:  [[-0.94189125 -1.2169755   0.67086726 -1.7853245 ]]\n",
      "layer_h:  [[1.3886313  3.587839   0.84659207]]\n",
      "layer_y:  [[ 2.281006  -4.0990734]]\n"
     ]
    }
   ],
   "source": [
    "# build nn with layer builder\n",
    "X = tf.placeholder('float', [None, 4])\n",
    "h, w1, b1 = layer(output_dim=3, input_dim=4, inputs=X, activation=tf.nn.relu)\n",
    "y, w2, b2 = layer(output_dim=2, input_dim=3, inputs=h)\n",
    "\n",
    "with tf.Session() as sess:\n",
    "    init = tf.global_variables_initializer()\n",
    "    sess.run(init)\n",
    "    \n",
    "    X_array = tf.random_normal([1, 4]).eval()\n",
    "    (layer_X, layer_h, layer_y, w1_data, b1_data, w2_data, b2_data) = sess.run((X, h, y, w1, b1, w2, b2), feed_dict={X: X_array})\n",
    "    \n",
    "    print('layer_x: ', layer_X)\n",
    "    print('w1: ', w1_data)\n",
    "    print('b1: ', b1)\n",
    "    print('layer_h: ', layer_h)\n",
    "    print('w2: ', w2)\n",
    "    print('b2: ', b2)\n",
    "    print('layer_y: ', layer_y)"
   ]
  },
  {
   "cell_type": "code",
   "execution_count": null,
   "metadata": {},
   "outputs": [],
   "source": []
  }
 ],
 "metadata": {
  "kernelspec": {
   "display_name": "Python 3",
   "language": "python",
   "name": "python3"
  },
  "language_info": {
   "codemirror_mode": {
    "name": "ipython",
    "version": 3
   },
   "file_extension": ".py",
   "mimetype": "text/x-python",
   "name": "python",
   "nbconvert_exporter": "python",
   "pygments_lexer": "ipython3",
   "version": "3.6.5"
  }
 },
 "nbformat": 4,
 "nbformat_minor": 2
}
