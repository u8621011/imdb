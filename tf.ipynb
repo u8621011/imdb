{
 "cells": [
  {
   "cell_type": "code",
   "execution_count": 8,
   "metadata": {},
   "outputs": [
    {
     "name": "stdout",
     "output_type": "stream",
     "text": [
      "tf_c:  2\n",
      "tf_x:  7\n",
      "eval of tf_x:  7\n",
      "area:  15\n"
     ]
    }
   ],
   "source": [
    "# build computing graph of tensorflow\n",
    "\n",
    "import tensorflow as tf\n",
    "\n",
    "tf_c = tf.constant(2, name='const')\n",
    "tf_x = tf.Variable(tf_c+5, name='tf_x')\n",
    "\n",
    "width = tf.placeholder('int32')\n",
    "height = tf.placeholder('int32')\n",
    "area = tf.multiply(width, height)\n",
    "\n",
    "# executing\n",
    "with tf.Session() as sess:\n",
    "    init = tf.global_variables_initializer()\n",
    "    sess.run(init)\n",
    "    print('tf_c: ', sess.run(tf_c))\n",
    "    print('tf_x: ',sess.run(tf_x))\n",
    "    print('eval of tf_x: ', tf_x.eval(session=sess))\n",
    "    \n",
    "    print('area: ', sess.run(area, feed_dict={width: 5, height: 3}))\n"
   ]
  },
  {
   "cell_type": "code",
   "execution_count": 9,
   "metadata": {},
   "outputs": [],
   "source": [
    "# output the file for TensorBoard\n",
    "tf.summary.merge_all()\n",
    "train_writer = tf.summary.FileWriter('log/area', sess.graph)"
   ]
  },
  {
   "cell_type": "code",
   "execution_count": 17,
   "metadata": {},
   "outputs": [
    {
     "name": "stdout",
     "output_type": "stream",
     "text": [
      "[0.4 0.2 0.4]\n",
      "shape:  (3,)\n",
      "mat a:  [[1 2 3]]\n",
      "shape:  (1, 3)\n",
      "mat b:  [[ 1  3  5]\n",
      " [ 2  4  6]\n",
      " [ 9 10 11]]\n",
      "shape:  (3, 3)\n"
     ]
    }
   ],
   "source": [
    "# building the vector\n",
    "tf_vec = tf.Variable([0.4, 0.2, 0.4])\n",
    "tf_mat_a = tf.Variable([[1, 2, 3]])\n",
    "tf_mat_b = tf.Variable([[1, 3, 5],\n",
    "                  [2, 4, 6],\n",
    "                  [9, 10, 11]])\n",
    "\n",
    "with tf.Session() as sess:\n",
    "    init = tf.global_variables_initializer()\n",
    "    sess.run(init)\n",
    "    vec = sess.run(tf_vec)\n",
    "    print(vec)\n",
    "    print('shape: ', vec.shape)\n",
    "    \n",
    "    mat_a = sess.run(tf_mat_a)\n",
    "    mat_b = sess.run(tf_mat_b)\n",
    "    print('mat a: ', mat_a)\n",
    "    print('shape: ', mat_a.shape)\n",
    "    print('mat b: ', mat_b)\n",
    "    print('shape: ', mat_b.shape)\n",
    "    \n",
    "    "
   ]
  },
  {
   "cell_type": "code",
   "execution_count": null,
   "metadata": {},
   "outputs": [],
   "source": []
  }
 ],
 "metadata": {
  "kernelspec": {
   "display_name": "Python 3",
   "language": "python",
   "name": "python3"
  },
  "language_info": {
   "codemirror_mode": {
    "name": "ipython",
    "version": 3
   },
   "file_extension": ".py",
   "mimetype": "text/x-python",
   "name": "python",
   "nbconvert_exporter": "python",
   "pygments_lexer": "ipython3",
   "version": "3.6.5"
  }
 },
 "nbformat": 4,
 "nbformat_minor": 2
}
